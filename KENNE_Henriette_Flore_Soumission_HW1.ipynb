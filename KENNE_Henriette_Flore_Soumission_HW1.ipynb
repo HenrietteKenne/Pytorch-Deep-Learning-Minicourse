{
 "cells": [
  {
   "cell_type": "code",
   "execution_count": 60,
   "metadata": {
    "collapsed": true
   },
   "outputs": [],
   "source": [
    "import torch\n",
    "import torch.nn as nn\n",
    "import torch.nn.functional as F\n",
    "import torch.optim as optim\n",
    "from torchvision import datasets, transforms\n",
    "import matplotlib.pyplot as plt\n",
    "import numpy as np\n"
   ]
  },
  {
   "cell_type": "code",
   "execution_count": 77,
   "metadata": {
    "collapsed": false
   },
   "outputs": [],
   "source": [
    "#from plot_lib import plot_data, plot_model, set_default"
   ]
  },
  {
   "cell_type": "code",
   "execution_count": 76,
   "metadata": {
    "collapsed": false
   },
   "outputs": [],
   "source": [
    "#set_default()"
   ]
  },
  {
   "cell_type": "code",
   "execution_count": 80,
   "metadata": {
    "collapsed": true
   },
   "outputs": [],
   "source": [
    "import torch\n",
    "import torch.nn as nn\n",
    "import torch.nn.functional as F\n",
    "import torch.optim as optim\n",
    "from torchvision import datasets, transforms\n",
    "import matplotlib.pyplot as plt\n",
    "import numpy as np\n",
    "\n",
    "# function to count number of parameters\n",
    "def get_n_params(model):\n",
    "    np=0\n",
    "    for p in list(model.parameters()):\n",
    "        np += p.nelement()\n",
    "    return np"
   ]
  },
  {
   "cell_type": "code",
   "execution_count": 81,
   "metadata": {
    "collapsed": false
   },
   "outputs": [],
   "source": [
    "input_size  = 28*28   # 28x28 pixels\n",
    "output_size = 10      # 10 classes\n",
    "\n",
    "train_loader = torch.utils.data.DataLoader(\n",
    "    datasets.MNIST('data', train=True, download=True,\n",
    "                   transform=transforms.Compose([\n",
    "                       transforms.ToTensor(),\n",
    "                       transforms.Normalize((0.1307,), (0.3081,))\n",
    "                   ])),\n",
    "    batch_size=64, shuffle=True)\n",
    "\n",
    "test_loader = torch.utils.data.DataLoader(\n",
    "    datasets.MNIST('data', train=False, transform=transforms.Compose([\n",
    "                       transforms.ToTensor(),\n",
    "                       transforms.Normalize((0.1307,), (0.3081,))\n",
    "                   ])),\n",
    "    batch_size=1000, shuffle=True)"
   ]
  },
  {
   "cell_type": "markdown",
   "metadata": {},
   "source": [
    "# 4.1.New Model Class"
   ]
  },
  {
   "cell_type": "code",
   "execution_count": 82,
   "metadata": {
    "collapsed": false
   },
   "outputs": [],
   "source": [
    "class CNN(nn.Module):\n",
    "    def __init__(self,conv_kernel_size, pooling_kernel_size, stride_size, zero_padding, max_pooling):\n",
    "        super(CNN, self).__init__()\n",
    "        self.conv_kernel_size = conv_kernel_size\n",
    "        self.pooling_kernel_size = pooling_kernel_size\n",
    "        self.stride_size = stride_size\n",
    "        self.zero_padding = zero_padding\n",
    "        self.max_pooling = max_pooling\n",
    "        \n",
    "        if zero_padding is True:\n",
    "            padding_size = 2\n",
    "            d = 7\n",
    "        else:\n",
    "            padding_size = 0\n",
    "            d = 4\n",
    "        self.conv1 = nn.Conv2d(1, 16, kernel_size=conv_kernel_size,stride=stride_size, padding=padding_size)\n",
    "        self.conv2 = nn.Conv2d(16, 32, kernel_size=conv_kernel_size,stride=stride_size, padding=padding_size)\n",
    "        self.fc1 = nn.Linear(32 * d * d, 10)\n",
    "     \n",
    "    def forward(self, x, verbose=False):\n",
    "        if self.max_pooling is True:\n",
    "            x = self.conv1(x)\n",
    "            x = F.max_pool2d(x, kernel_size=self.pooling_kernel_size)\n",
    "            x = self.conv2(x)\n",
    "            x = F.max_pool2d(x, kernel_size=self.pooling_kernel_size)\n",
    "            x = x.view(-1, 32*4*4)\n",
    "            x = self.fc1(x)\n",
    "            x = F.log_softmax(x, dim=1)\n",
    "        else:\n",
    "            x = self.conv1(x)\n",
    "            x = F.avg_pool2d(x, kernel_size=self.pooling_kernel_size)\n",
    "            x = self.conv2(x)\n",
    "            x = F.avg_pool2d(x, kernel_size=self.pooling_kernel_size)\n",
    "            x = x.view(-1, 32*4*4)\n",
    "            x = self.fc1(x)\n",
    "            x = F.log_softmax(x, dim=1)\n",
    "            \n",
    "        return x"
   ]
  },
  {
   "cell_type": "markdown",
   "metadata": {},
   "source": [
    "# 4.2. Zero Padding Model Tensors"
   ]
  },
  {
   "cell_type": "code",
   "execution_count": 87,
   "metadata": {
    "collapsed": false
   },
   "outputs": [
    {
     "name": "stdout",
     "output_type": "stream",
     "text": [
      "CNN(\n",
      "  (conv1): Conv2d(1, 16, kernel_size=(5, 5), stride=(1, 1), padding=(2, 2))\n",
      "  (conv2): Conv2d(16, 32, kernel_size=(5, 5), stride=(1, 1), padding=(2, 2))\n",
      "  (fc1): Linear(in_features=1568, out_features=10, bias=True)\n",
      ")\n"
     ]
    }
   ],
   "source": [
    "cnn = CNN(5,2,1, True, True)\n",
    "print(cnn)"
   ]
  },
  {
   "cell_type": "code",
   "execution_count": 88,
   "metadata": {
    "collapsed": false
   },
   "outputs": [
    {
     "name": "stdout",
     "output_type": "stream",
     "text": [
      "torch.Size([16, 1, 5, 5])\n",
      "torch.Size([16])\n",
      "torch.Size([32, 16, 5, 5])\n",
      "torch.Size([32])\n",
      "torch.Size([10, 1568])\n",
      "torch.Size([10])\n"
     ]
    }
   ],
   "source": [
    "params = np.array(list(cnn.parameters()))\n",
    "print(params[0].size()) # conv 1\n",
    "print(params[1].size()) # conv 1 bias\n",
    "print(params[2].size()) # conv 2\n",
    "print(params[3].size()) # conv 2 bias\n",
    "print(params[4].size()) # fc \n",
    "print(params[5].size()) # fc bias"
   ]
  },
  {
   "cell_type": "markdown",
   "metadata": {},
   "source": [
    "# 4.3.Valid Padding Model Tensors"
   ]
  },
  {
   "cell_type": "code",
   "execution_count": 74,
   "metadata": {
    "collapsed": true
   },
   "outputs": [],
   "source": [
    "cnn = CNN(5,2,1, False, True)"
   ]
  },
  {
   "cell_type": "code",
   "execution_count": 91,
   "metadata": {
    "collapsed": false
   },
   "outputs": [
    {
     "name": "stdout",
     "output_type": "stream",
     "text": [
      "CNN(\n",
      "  (conv1): Conv2d(1, 16, kernel_size=(5, 5), stride=(1, 1), padding=(2, 2))\n",
      "  (conv2): Conv2d(16, 32, kernel_size=(5, 5), stride=(1, 1), padding=(2, 2))\n",
      "  (fc1): Linear(in_features=1568, out_features=10, bias=True)\n",
      ")\n"
     ]
    }
   ],
   "source": [
    "print(cnn)"
   ]
  },
  {
   "cell_type": "code",
   "execution_count": 92,
   "metadata": {
    "collapsed": false
   },
   "outputs": [
    {
     "name": "stdout",
     "output_type": "stream",
     "text": [
      "torch.Size([16, 1, 5, 5])\n",
      "torch.Size([16])\n",
      "torch.Size([32, 16, 5, 5])\n",
      "torch.Size([32])\n",
      "torch.Size([10, 1568])\n",
      "torch.Size([10])\n"
     ]
    }
   ],
   "source": [
    "params = list(cnn.parameters())\n",
    "print(params[0].size()) # conv 1\n",
    "print(params[1].size()) # conv 1 bias\n",
    "print(params[2].size()) # conv 2\n",
    "print(params[3].size()) # conv 2 bias\n",
    "print(params[4].size()) # fc \n",
    "print(params[5].size()) # fc bias"
   ]
  }
 ],
 "metadata": {
  "kernelspec": {
   "display_name": "Python 3",
   "language": "python",
   "name": "python3"
  },
  "language_info": {
   "codemirror_mode": {
    "name": "ipython",
    "version": 3
   },
   "file_extension": ".py",
   "mimetype": "text/x-python",
   "name": "python",
   "nbconvert_exporter": "python",
   "pygments_lexer": "ipython3",
   "version": "3.5.3"
  }
 },
 "nbformat": 4,
 "nbformat_minor": 2
}
